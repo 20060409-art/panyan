{
 "cells": [
  {
   "cell_type": "markdown",
   "id": "f59761b1",
   "metadata": {},
   "source": [
    "# Conda环境配置"
   ]
  },
  {
   "cell_type": "markdown",
   "id": "7b50b57c",
   "metadata": {},
   "source": [
    "前往https://www.anaconda.com/download/success\n",
    "\n",
    "下载对应的操作系统版本（windows：exe，运行）"
   ]
  },
  {
   "cell_type": "code",
   "execution_count": 3,
   "id": "8adf51ed",
   "metadata": {},
   "outputs": [
    {
     "name": "stdout",
     "output_type": "stream",
     "text": [
      "conda 4.11.0\n"
     ]
    }
   ],
   "source": [
    "!conda --version"
   ]
  },
  {
   "cell_type": "code",
   "execution_count": null,
   "id": "1f5e9807",
   "metadata": {},
   "outputs": [],
   "source": [
    "# 创建新环境\n",
    "!conda create -n new2python python=3.11\n",
    "!conda activate new2python\n",
    "\n",
    "# 查看当前环境\n",
    "!conda env list\n",
    "\n",
    "# 删除环境\n",
    "!conda remove -n new2python --all"
   ]
  },
  {
   "cell_type": "code",
   "execution_count": null,
   "id": "3936c5e4",
   "metadata": {},
   "outputs": [],
   "source": [
    "# 安装ipynb\n",
    "conda install ipykernel jupyter\n",
    "\n",
    "# 成功后就可以在vscode的notebook中使用指定特定的kernel了\n",
    "\n",
    "# conda和pip的区别？"
   ]
  },
  {
   "cell_type": "markdown",
   "id": "2d05d0da",
   "metadata": {},
   "source": [
    "# Set up Numpy"
   ]
  },
  {
   "cell_type": "code",
   "execution_count": null,
   "id": "2a9c8d06",
   "metadata": {},
   "outputs": [],
   "source": [
    "# 查看pip版本\n",
    "!pip --version"
   ]
  },
  {
   "cell_type": "code",
   "execution_count": null,
   "id": "dd388c60",
   "metadata": {},
   "outputs": [],
   "source": [
    "# 更新pip\n",
    "!pip install --upgrade pip"
   ]
  },
  {
   "cell_type": "code",
   "execution_count": null,
   "id": "f67b8ff9",
   "metadata": {},
   "outputs": [],
   "source": [
    "# 如何看pip有什么功能？\n",
    "!pip help"
   ]
  },
  {
   "cell_type": "code",
   "execution_count": null,
   "id": "9bb003d0",
   "metadata": {},
   "outputs": [],
   "source": [
    "# pip查看包的版本\n",
    "!pip show <package name>"
   ]
  },
  {
   "cell_type": "code",
   "execution_count": null,
   "id": "9313cb22",
   "metadata": {},
   "outputs": [],
   "source": [
    "# pip install\n",
    "pip install package_name\n",
    "\n",
    "# 指定版本\n",
    "pip install package_name==version\n",
    "\n",
    "# install from a txt file\n",
    "pip install -r requirements.txt\n",
    "\n",
    "# install from a directory\n",
    "pip install -e .\n",
    "\n",
    "# install from a git repository\n",
    "pip install git+https://github.com/user/repo.git"
   ]
  },
  {
   "cell_type": "code",
   "execution_count": null,
   "id": "e2494d25",
   "metadata": {},
   "outputs": [],
   "source": [
    "# 查看pip都有什么包\n",
    "!pip list"
   ]
  },
  {
   "cell_type": "code",
   "execution_count": null,
   "id": "4608ae1f",
   "metadata": {},
   "outputs": [],
   "source": [
    "# pip升级和删除\n",
    "pip install --upgrade package_name\n",
    "\n",
    "pip uninstall package_name\n",
    "\n",
    "# 查看哪些包需要更新\n",
    "pip list --outdated"
   ]
  }
 ],
 "metadata": {
  "kernelspec": {
   "display_name": "base",
   "language": "python",
   "name": "python3"
  },
  "language_info": {
   "codemirror_mode": {
    "name": "ipython",
    "version": 3
   },
   "file_extension": ".py",
   "mimetype": "text/x-python",
   "name": "python",
   "nbconvert_exporter": "python",
   "pygments_lexer": "ipython3",
   "version": "3.9.7"
  }
 },
 "nbformat": 4,
 "nbformat_minor": 5
}
