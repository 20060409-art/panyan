{
 "cells": [
  {
   "cell_type": "markdown",
   "id": "496a29de",
   "metadata": {},
   "source": [
    "# Numpy 基础 1"
   ]
  },
  {
   "cell_type": "code",
   "execution_count": null,
   "id": "619e1911",
   "metadata": {},
   "outputs": [],
   "source": [
    "import numpy as np"
   ]
  },
  {
   "cell_type": "markdown",
   "id": "f68c0716",
   "metadata": {},
   "source": [
    "## 1. Numpy Array"
   ]
  },
  {
   "cell_type": "code",
   "execution_count": null,
   "id": "96196a64",
   "metadata": {},
   "outputs": [],
   "source": [
    "# Single dimension array\n",
    "a = np.array([2,3,4])\n",
    "b = np.array([2.0,3.5,4.4])\n",
    "print(\"1D arrays:\")\n",
    "print(a)\n",
    "print(b)"
   ]
  },
  {
   "cell_type": "code",
   "execution_count": null,
   "id": "9b838c6d",
   "metadata": {},
   "outputs": [],
   "source": [
    "# 2D dimension array\n",
    "c = np.array([[1,2],[3,4]])\n",
    "print(\"\\n2D array:\")\n",
    "print(c)\n",
    "\n",
    "# 3D dimension array\n",
    "d = np.array([[[1,2],[3,4]],[[5,6],[7,8]]])\n",
    "print(\"\\n3D array:\")\n",
    "print(d)\n",
    "\n",
    "# 4D dimension array\n",
    "e = np.array([[[[1,2],[3,4]],[[5,6],[7,8]]],[[[9,10],[11,12]],[[13,14],[15,16]]]])\n",
    "print(\"\\n4D array:\")\n",
    "print(e)"
   ]
  },
  {
   "cell_type": "code",
   "execution_count": null,
   "id": "8ab80be3",
   "metadata": {},
   "outputs": [],
   "source": [
    "#complex 2D Array\n",
    "c=np.array([[1,2],[3,4]], dtype= complex)\n",
    "print(c)\n",
    "\n"
   ]
  },
  {
   "cell_type": "code",
   "execution_count": null,
   "id": "35c6d647",
   "metadata": {},
   "outputs": [],
   "source": [
    "# Array full of zeros\n",
    "oArray = np.zeros((3,4))\n",
    "print(\"\\nZeros array:\")\n",
    "print(oArray)\n",
    "\n",
    "# Array full of ones\n",
    "oneArray = np.ones((3,4))\n",
    "print(\"\\nOnes array:\")\n",
    "print(\"\\nRandom array:\")\n",
    "print(oneArray)\n",
    "\n",
    "# Array full of random numbers\n",
    "randomArray = np.random.random((3,4))\n",
    "print(\"\\nRandom array:\")\n",
    "print(randomArray)\n",
    "\n",
    "# Empty array\n",
    "emptyArray = np.empty((3,4))\n",
    "print(\"\\nEmpty array:\")\n",
    "print(emptyArray)"
   ]
  },
  {
   "cell_type": "code",
   "execution_count": null,
   "id": "d2bcf156",
   "metadata": {},
   "outputs": [],
   "source": [
    "# Conversion from other Python data types\n",
    "array_list = np.array([1, 2, 3])\n",
    "array_tuple = np.array(((1, 2, 3), (4, 5, 6)))\n",
    "array_set = np.array({\"pikachu\", \"snorlax\", \"charizard\"})\n",
    "except TypeError as e:\n",
    "    print(\"\\nError converting set to array:\", e)\n",
    "\n",
    "print(\"\\nFrom list:\")\n",
    "print(array_list)\n",
    "print(\"\\nFrom tuple:\")\n",
    "print(array_tuple)"
   ]
  },
  {
   "cell_type": "markdown",
   "id": "13bc9ef7",
   "metadata": {},
   "source": [
    "## 2. Numpy Function"
   ]
  },
  {
   "cell_type": "markdown",
   "id": "8b9afc78",
   "metadata": {},
   "source": [
    "NumPy has a large list of special cases functions that generate arrays, which are too large and seemingly disconnected to enumerate. Here are a few examples:"
   ]
  },
  {
   "cell_type": "code",
   "execution_count": null,
   "id": "e8de8cf6",
   "metadata": {},
   "outputs": [],
   "source": [
    "# diagonal array\n",
    "diagonal = np.diag([1, 2, 3], k=0)\n",
    "default (main diagonal)\n",
    "print(\"Diagonal matrix:\\n\", diagonal)\n",
    "# identity\n",
    "identity = np.identity(3)\n",
    "print(\"\\nIdentity matrix:\\n\", identity)\n",
    "# eye\n",
    "eye = np.eye(4, k=1)\n",
    "eye = np.eye(4, k=1)  \n",
    "print(\"\\nEye matrix (k=1):\\n\", eye)\n",
    "\n",
    "# rand\n",
    "rand = np.random.rand(3,2)\n",
    "rand = np.random.rand(3, 2)  \n",
    "print(\"\\nRandom uniform array:\\n\", rand)"
   ]
  },
  {
   "cell_type": "code",
   "execution_count": null,
   "id": "49495406",
   "metadata": {},
   "outputs": [],
   "source": [
    "print(f'Diagonal matrix from array-like structure:\\n{diagonal}\\n')\n",
    "print(f'Identity matrix:\\n{identity}\\n')\n",
    "print(f'Diagonal matrix with ones and zeros elsewhere:\\n{eye}\\n')\n",
    "print(f'Array of random numbers sampled from a uniform distribution:\\n{rand}')"
   ]
  },
  {
   "cell_type": "code",
   "execution_count": null,
   "id": "3a449083",
   "metadata": {},
   "outputs": [],
   "source": [
    "# An array with a constant\n",
    "\n",
    "# Constant-filled array\n",
    "arr_c = np.full((2, 2), 7) \n",
    "print(\"\\nConstant array:\\n\", arr_c)\n",
    "\n",
    "\n",
    "arr_l = np.linspace(8, 5, 7)  \n",
    "print(\"\\nLinspace array (float):\\n\", arr_l)\n",
    "print(\"Data type:\", arr_l.dtype)  \n",
    "\n",
    "arr_c = np.full((2,2), 7)\n",
    "print(arr_c)"
   ]
  },
  {
   "cell_type": "code",
   "execution_count": null,
   "id": "0a9a16f2",
   "metadata": {},
   "outputs": [],
   "source": [
    "\n",
    "\n",
    "arr_l = np.linspace(0, 5, 7)  \n",
    "print(\"\\nLinspace array (float):\\n\", arr_l)\n",
    "print(\"Data type:\", arr_l.dtype)\n",
    "\n",
    "arr_L = np.linspace(0, 5,7)\n",
    "print(arr_L)"
   ]
  },
  {
   "cell_type": "markdown",
   "id": "0ae73452",
   "metadata": {},
   "source": [
    "What is the type of the value in this array?"
   ]
  },
  {
   "cell_type": "code",
   "execution_count": null,
   "id": "5e8c53dd",
   "metadata": {},
   "outputs": [],
   "source": []
  },
  {
   "cell_type": "code",
   "execution_count": null,
   "id": "52403398",
   "metadata": {},
   "outputs": [],
   "source": [
    "# Creating an array with start value, end value and number of values(datatypes int)\n",
    "\n",
    "arr_a=np.arange(1, 10,1)\n",
    "print(arr_a)\n",
    "arr_amp = np.arange(1, 10, 1, dtype='int32') \n",
    "print(\"\\nArange array (int32):\\n\", arr_amp)\n",
    "print(\"Data type:\", arr_amp.dtype)  "
   ]
  },
  {
   "cell_type": "code",
   "execution_count": null,
   "id": "7384285d",
   "metadata": {},
   "outputs": [],
   "source": [
    "Random integers (7 values between 10 and 100)\n",
    "arr_1 = np.random.randint(10, 100, 7)\n",
    "print(\"\\nRandom integers:\\n\", arr_1)\n",
    "arr_1= np.random.randint(10,100,7)\n",
    "print(arr_1)"
   ]
  },
  {
   "cell_type": "code",
   "execution_count": null,
   "id": "1654f691",
   "metadata": {},
   "outputs": [],
   "source": [
    "arr_0 = np.random.randn(10)  \n",
    "arr_n= np.random.randn(10)\n",
    "print(arr_n)"
   ]
  },
  {
   "cell_type": "code",
   "execution_count": null,
   "id": "15a30ae1",
   "metadata": {},
   "outputs": [],
   "source": [
    "arr_I = np.eye(2)  \n",
    "print(\"\\nIdentity matrix:\\n\", arr_I)\n",
    "arr_I = np.eye(2)\n",
    "print(arr_I)"
   ]
  },
  {
   "cell_type": "code",
   "execution_count": null,
   "id": "00dba920",
   "metadata": {},
   "outputs": [],
   "source": [
    "# Creating Arrays from existing data\n",
    "\n",
    "x = [1,2,3]\n",
    "a = np.asarray(x)\n",
    "print (a)\n",
    "\n",
    "x = [1, 2, 3]\n",
    "a = np.asarray(x)\n",
    "print(\"\\nArray from list:\\n\", a)\n",
    "\n",
    "# ndarray from tuple\n",
    "x_1 = (1,2,3)\n",
    "a_1 = np.asarray(x_1)\n",
    "print (a_1)\n",
    "\n",
    "x_1 = (1, 2, 3)\n",
    "a_1 = np.asarray(x_1)\n",
    "print(\"\\nArray from tuple:\\n\", a_1)\n",
    "# ndarray from list of tuples\n",
    "x_2 = [(1,2,3),(4,5)]\n",
    "a_2 = np.asarray(x_2)\n",
    "print (a_2)\n",
    "\n",
    "x_2 = [(1, 2, 3), (4, 5)]\n",
    "a_2 = np.asarray(x_2, dtype=object)\n",
    "print(\"\\nRagged array:\\n\", a_2)\n",
    "\n",
    "arr = np.array([[1,2,3],[4,5,6]])\n",
    "print (arr.shape)"
   ]
  },
  {
   "cell_type": "code",
   "execution_count": null,
   "id": "0ff2ef69",
   "metadata": {},
   "outputs": [],
   "source": [
    "arr = np.array([[1, 2, 3], [4, 5, 6]])\n",
    "print(\"\\nOriginal shape:\", arr.shape)\n",
    "a = arr.copy()\n",
    "a.shape = (3, 2)\n",
    "print(\"\\nResized array (3x2):\\n\", a)\n",
    "a = np.array([[1,2,3],[4,5,6]])\n",
    "a.shape = (3,2)\n",
    "print (a)\n",
    "\n",
    "b = arr.reshape(3, 2)\n",
    "print(\"\\nReshaped array (3x2):\\n\", b)\n",
    "a = np.array([[1,2,3],[4,5,6]])\n",
    "b = a.reshape(3,2)\n",
    "print (b)"
   ]
  },
  {
   "cell_type": "markdown",
   "id": "5ca8eab6",
   "metadata": {},
   "source": [
    "## 3. Arthimetic Operations"
   ]
  },
  {
   "cell_type": "markdown",
   "id": "658a537b",
   "metadata": {},
   "source": [
    "### 3.1 Addition"
   ]
  },
  {
   "cell_type": "markdown",
   "id": "55bab08f",
   "metadata": {},
   "source": [
    "Example 1"
   ]
  },
  {
   "cell_type": "code",
   "execution_count": null,
   "id": "b2873397",
   "metadata": {},
   "outputs": [],
   "source": [
    "import numpy as np\n",
    "A = np.arange(12).reshape(3,4)\n",
    "A"
   ]
  },
  {
   "cell_type": "code",
   "execution_count": null,
   "id": "397fb9e4",
   "metadata": {},
   "outputs": [],
   "source": [
    "B = np.arange(12).reshape(3,4)\n",
    "B"
   ]
  },
  {
   "cell_type": "code",
   "execution_count": null,
   "id": "06886c97",
   "metadata": {},
   "outputs": [],
   "source": [
    "A+B\n",
    "C = A + B  # or np.add(A, B)\n",
    "print(\"\\nElement-wise addition (A + B):\\n\", C)"
   ]
  },
  {
   "cell_type": "markdown",
   "id": "8c9650c2",
   "metadata": {},
   "source": [
    "Example 2"
   ]
  },
  {
   "cell_type": "code",
   "execution_count": null,
   "id": "1fe74497",
   "metadata": {},
   "outputs": [],
   "source": [
    "data=np.array([1,2])\n",
    "ones= np.ones(2)\n",
    "addition = data + ones\n",
    "print(f'Addition of data and ones:\\n{addition}\\n')"
   ]
  },
  {
   "cell_type": "code",
   "execution_count": null,
   "id": "57eb4295",
   "metadata": {},
   "outputs": [],
   "source": [
    "data=np.array([[1,2],[2,4]])\n",
    "ones= np.ones(2)\n",
    "addition = data + ones\n",
    "print(f'Addition of data and ones:\\n{addition}\\n')"
   ]
  },
  {
   "cell_type": "markdown",
   "id": "34b111af",
   "metadata": {},
   "source": [
    "### 3.2 Substraction , multiplication and Division"
   ]
  },
  {
   "cell_type": "markdown",
   "id": "93a8c215",
   "metadata": {},
   "source": [
    "Example 1"
   ]
  },
  {
   "cell_type": "code",
   "execution_count": null,
   "id": "40dc861d",
   "metadata": {},
   "outputs": [],
   "source": [
    "A-B"
   ]
  },
  {
   "cell_type": "code",
   "execution_count": null,
   "id": "ba0ec095",
   "metadata": {},
   "outputs": [],
   "source": [
    "data=np.array([[1,2]])\n",
    "ones= np.ones(1)\n",
    "subtraction = data - ones\n",
    "print(f'Subtraction of data and ones:\\n{subtraction}\\n')"
   ]
  },
  {
   "cell_type": "markdown",
   "id": "cbd97b3a",
   "metadata": {},
   "source": [
    "Example 2"
   ]
  },
  {
   "cell_type": "code",
   "execution_count": null,
   "id": "bb088cff",
   "metadata": {},
   "outputs": [],
   "source": [
    "A*B"
   ]
  },
  {
   "cell_type": "code",
   "execution_count": null,
   "id": "58d36470",
   "metadata": {},
   "outputs": [],
   "source": [
    "data=np.array([[1,2]])\n",
    "multiplication = data * data\n",
    "print(f'Subtraction of data and ones:\\n{subtraction}\\n')\n",
    "print(f'Multiplication of data and data:\\n{multiplication}\\n')"
   ]
  },
  {
   "cell_type": "markdown",
   "id": "631a0136",
   "metadata": {},
   "source": [
    "Example 3"
   ]
  },
  {
   "cell_type": "code",
   "execution_count": null,
   "id": "cef4eca9",
   "metadata": {},
   "outputs": [],
   "source": [
    "A/B"
   ]
  },
  {
   "cell_type": "code",
   "execution_count": null,
   "id": "0d47973d",
   "metadata": {},
   "outputs": [],
   "source": [
    "data=np.array([[1,2]])\n",
    "true_division = data / data\n",
    "print(f'True divition of data and data:\\n{true_division}\\n')"
   ]
  },
  {
   "cell_type": "code",
   "execution_count": null,
   "id": "e916b363",
   "metadata": {},
   "outputs": [],
   "source": [
    "a = np.arange(1, 10).reshape((3,3))\n",
    "b = np.arange(10,19).reshape((3,3))"
   ]
  },
  {
   "cell_type": "code",
   "execution_count": null,
   "id": "2cab4c00",
   "metadata": {},
   "outputs": [],
   "source": [
    "subtraction = a - b\n",
    "multiplication = a * b\n",
    "true_division = a / b\n",
    "floor_division = a // b\n",
    "remainder = np.remainder(a, b)"
   ]
  },
  {
   "cell_type": "code",
   "execution_count": null,
   "id": "48f5cfd2",
   "metadata": {},
   "outputs": [],
   "source": [
    "print(f'Array a:\\n{a}\\n')\n",
    "print(f'Array b:\\n{b}\\n')\n",
    "print(f'Subtraction of a and b:\\n{subtraction}\\n')\n",
    "print(f'Multiplication of a and b:\\n{multiplication}\\n')\n",
    "print(f'True divition of a and b:\\n{true_division}\\n')\n",
    "print(f'Floor division of a and b:\\n{floor_division}\\n')\n",
    "print(f'Remainder of a and b:\\n{remainder}')"
   ]
  },
  {
   "cell_type": "markdown",
   "id": "a25a62d4",
   "metadata": {},
   "source": [
    "### 3.3 Dot Product"
   ]
  },
  {
   "cell_type": "markdown",
   "id": "a9046f14",
   "metadata": {},
   "source": [
    "dot product is a mathematical operation that calculates the sum of the products of corresponding elements of two vectors. In NumPy, you can calculate the dot product using the dot() function."
   ]
  },
  {
   "cell_type": "code",
   "execution_count": null,
   "id": "48b9ba57",
   "metadata": {},
   "outputs": [],
   "source": [
    "a = np.array([1, 2, 3])\n",
    "b = np.array([4, 5, 6])\n",
    "dot_product = np.dot(a, b)\n",
    "print(dot_product)\n",
    "a = np.array([[1, 2], [3, 4]])\n",
    "b = np.array([[5, 6], [7, 8]])\n",
    "dot_product = np.dot(a, b)\n",
    "print(dot_product)"
   ]
  },
  {
   "cell_type": "markdown",
   "id": "26d41aea",
   "metadata": {},
   "source": [
    "### 3.4 Broadcasting"
   ]
  },
  {
   "cell_type": "markdown",
   "id": "d2e19ae2",
   "metadata": {},
   "source": [
    "NumPy’s broadcasting feature enables operations between arrays of different shapes and sizes"
   ]
  },
  {
   "cell_type": "code",
   "execution_count": null,
   "id": "b411d92a",
   "metadata": {},
   "outputs": [],
   "source": [
    "arr = np.array([[1, 2, 3], [4, 5, 6]])\n",
    "scalar = 2\n",
    "result_broadcast = arr * scalar\n",
    "print(\"Broadcasting Result:\", result_broadcast)"
   ]
  },
  {
   "cell_type": "code",
   "execution_count": null,
   "id": "499b1008",
   "metadata": {},
   "outputs": [],
   "source": [
    "# Creating 1D NumPy arrays\n",
    "arr1 = np.array([1, 2, 3])\n",
    "arr2 = np.array([4, 5, 6])\n",
    "scalar = 2\n",
    "dot_product = np.dot(arr1, arr2)  \n",
    "\n",
    "matrix_multiplication = np.dot(arr,arr*2)\n",
    "print(\"\\nDot Product (1D arrays):\", dot_product)"
   ]
  },
  {
   "cell_type": "code",
   "execution_count": null,
   "id": "ac67a14c",
   "metadata": {},
   "outputs": [],
   "source": [
    "# Creating 1D NumPy arrays\n",
    "arr1 = np.array([1, 2, 3])\n",
    "arr2 = np.array([4, 5, 6])\n",
    "scalar = 2\n",
    "arr1 = np.array([1, 2, 3])  \n",
    "arr_1d = np.array([1, 2, 3])\n",
    "# Dimesion: 1 , Shape: (3,), Size: 3\n",
    "print(f\"Dimension: {arr_1d.ndim}, Shape: {arr_1d.shape}, size: {arr_1d.size}\")\n",
    "\n",
    "matrix1 = np.array([[1, 2], [3, 4]]) \n",
    "matrix2 = np.array([[5, 6], [7, 8]])  \n",
    "matrix_product = np.dot(matrix1, matrix2)  \n",
    "print(\"\\nMatrix Product (2D arrays):\\n\", matrix_produc)\n",
    "\n",
    "# Creating a 3D array (Tensor) # Dimension: 3 , Shape: (2, 2, 2)\n",
    "arr_3d = np.array([[[1, 2], [3, 4]], [[5, 6], [7, 8]]])"
   ]
  }
 ],
 "metadata": {
  "kernelspec": {
   "display_name": "base",
   "language": "python",
   "name": "python3"
  },
  "language_info": {
   "codemirror_mode": {
    "name": "ipython",
    "version": 3
   },
   "file_extension": ".py",
   "mimetype": "text/x-python",
   "name": "python",
   "nbconvert_exporter": "python",
   "pygments_lexer": "ipython3",
   "version": "3.9.7"
  }
 },
 "nbformat": 4,
 "nbformat_minor": 5
}
