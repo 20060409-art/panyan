{
 "cells": [
  {
   "cell_type": "markdown",
   "id": "dd515914",
   "metadata": {},
   "source": [
    "# Numpy 基础 3"
   ]
  },
  {
   "cell_type": "markdown",
   "id": "449d399c",
   "metadata": {},
   "source": [
    "# **📚Section 5-Statistical Analysis<a name='statistical_analysis'></a>**"
   ]
  },
  {
   "cell_type": "markdown",
   "id": "41a047a9",
   "metadata": {},
   "source": [
    "Although NumPy is not a library for statistical analysis, it does provide several descriptive statistics functions. In NumPy documentation these are presented as “order”, “average and variances”, “correlating” and “histograms”, but all of those are just descriptive statistics."
   ]
  },
  {
   "cell_type": "code",
   "execution_count": null,
   "id": "6c31e563",
   "metadata": {},
   "outputs": [],
   "source": [
    "import numpy as np\n",
    "\n",
    "# Creating a NumPy array\n",
    "data = np.array([1, 2, 3, 4, 5])\n",
    "\n",
    "# Calculate mean and median\n",
    "mean_value = np.mean(data)\n",
    "median_value = np.median(data)\n",
    "\n",
    "# Calculate variance and standard deviation\n",
    "variance_value = np.var(data)\n",
    "std_deviation_value = np.std(data)"
   ]
  },
  {
   "cell_type": "markdown",
   "id": "2fc412f5",
   "metadata": {},
   "source": [
    "## **5.2- Working with Distributions**"
   ]
  },
  {
   "cell_type": "markdown",
   "id": "e5d7df81",
   "metadata": {},
   "source": [
    "NumPy supports various probability distributions, making it easier to model and simulate data."
   ]
  },
  {
   "cell_type": "code",
   "execution_count": null,
   "id": "707f64b4",
   "metadata": {},
   "outputs": [],
   "source": [
    "# Background Math Knowledge\n",
    "\n",
    "# Normal Distribution: https://www.mathsisfun.com/data/standard-normal-distribution.html\n",
    "# 常见分布：https://blog.dailydoseofds.com/p/nine-most-important-distributions\n",
    "\n",
    "import numpy as np\n",
    "# Generating random samples from a normal distribution\n",
    "random_samples = np.random.normal(loc=0, scale=1, size=1000)"
   ]
  },
  {
   "cell_type": "markdown",
   "id": "7e119fb2",
   "metadata": {},
   "source": [
    "## **5-3-Hypothesis Testing**"
   ]
  },
  {
   "cell_type": "code",
   "execution_count": null,
   "id": "13ba78cd",
   "metadata": {},
   "outputs": [],
   "source": [
    "# Background Math Knowledge\n",
    "\n",
    "# https://blog.minitab.com/en/statistics-and-quality-data-analysis/what-are-t-values-and-p-values-in-statistics\n",
    "\n",
    "# One-sample t-test\n",
    "from scipy.stats import ttest_1samp\n",
    "t_statistic, p_value = ttest_1samp(data, popmean=3)"
   ]
  },
  {
   "cell_type": "code",
   "execution_count": null,
   "id": "94103bed",
   "metadata": {},
   "outputs": [],
   "source": [
    "p_value"
   ]
  },
  {
   "cell_type": "markdown",
   "id": "6fc244e0",
   "metadata": {},
   "source": [
    "## **5.4-Correlation and Regression** (Optional)"
   ]
  },
  {
   "cell_type": "code",
   "execution_count": null,
   "id": "090e8382",
   "metadata": {},
   "outputs": [],
   "source": [
    "# Background Math Knowledge\n",
    "\n",
    "# Simple Linear Regression: https://online.stat.psu.edu/stat501/lesson/1\n",
    "\n",
    "data1 = np.array([3, 1, 5, 2, 4])\n",
    "data2 = np.array([3, 1, 6, 7, 4])\n",
    "\n",
    "# Calculate correlation coefficient\n",
    "correlation_coefficient = np.corrcoef(data1, data2)[0, 1]\n",
    "# Linear regression\n",
    "slope, intercept = np.polyfit(data1, data2, 1)"
   ]
  },
  {
   "cell_type": "code",
   "execution_count": null,
   "id": "409f0126",
   "metadata": {},
   "outputs": [],
   "source": [
    "intercept"
   ]
  },
  {
   "cell_type": "markdown",
   "id": "39c050e4",
   "metadata": {},
   "source": [
    "## **5.5-Data Transformation**"
   ]
  },
  {
   "cell_type": "code",
   "execution_count": null,
   "id": "fae3f698",
   "metadata": {},
   "outputs": [],
   "source": [
    "# Data Centering\n",
    "data = np.array([10, 20, 30, 40, 50])\n",
    "mean = np.mean(data)\n",
    "centered_data = data - mean"
   ]
  },
  {
   "cell_type": "code",
   "execution_count": null,
   "id": "d6800a7d",
   "metadata": {},
   "outputs": [],
   "source": [
    "# Standardization\n",
    "std_dev = np.std(data)\n",
    "standardized_data = (data - mean) / std_dev"
   ]
  },
  {
   "cell_type": "code",
   "execution_count": null,
   "id": "0af56bdd",
   "metadata": {},
   "outputs": [],
   "source": [
    "# Log Transformation\n",
    "log_transformed_data = np.log(data)"
   ]
  },
  {
   "cell_type": "markdown",
   "id": "7a072e7c",
   "metadata": {},
   "source": [
    "## **5.6-Random Sampling**"
   ]
  },
  {
   "cell_type": "markdown",
   "id": "6c83c375",
   "metadata": {},
   "source": [
    "Random sampling involves selecting a subset of data points from a larger dataset. NumPy also provides tools for generating random numbers from various probability distributions."
   ]
  },
  {
   "cell_type": "code",
   "execution_count": null,
   "id": "b8270f39",
   "metadata": {},
   "outputs": [],
   "source": [
    "# Simple Random Sampling Without replacement\n",
    "data = np.array([1, 2, 3, 4, 5, 6, 7, 8, 9, 10])\n",
    "random_samples = np.random.choice(data, size=5, replace=False)"
   ]
  },
  {
   "cell_type": "code",
   "execution_count": null,
   "id": "17f351cf",
   "metadata": {},
   "outputs": [],
   "source": [
    "# Bootstrap Sampling\n",
    "num_samples = 1000\n",
    "bootstrap_samples = np.random.choice(data, size=(num_samples, len(data)), replace=True)"
   ]
  },
  {
   "cell_type": "markdown",
   "id": "01bfd798",
   "metadata": {},
   "source": [
    "## **5.7-Measures of central tendency** (Optional)"
   ]
  },
  {
   "cell_type": "code",
   "execution_count": null,
   "id": "dcb9cfaa",
   "metadata": {},
   "outputs": [],
   "source": [
    "import random"
   ]
  },
  {
   "cell_type": "code",
   "execution_count": null,
   "id": "0c219262",
   "metadata": {},
   "outputs": [],
   "source": [
    "!pip install scipy"
   ]
  },
  {
   "cell_type": "code",
   "execution_count": null,
   "id": "c2c6b127",
   "metadata": {},
   "outputs": [],
   "source": [
    "import scipy.stats as sp"
   ]
  },
  {
   "cell_type": "code",
   "execution_count": null,
   "id": "b5845328",
   "metadata": {},
   "outputs": [],
   "source": [
    "poisson1 = sp.poisson(5).rvs(1000)\n",
    "poisson2 = sp.poisson(50).rvs(1000)"
   ]
  },
  {
   "cell_type": "code",
   "execution_count": null,
   "id": "6e7bb5f9",
   "metadata": {},
   "outputs": [],
   "source": [
    "import matplotlib.pyplot as plt\n",
    "fig, (ax1, ax2) = plt.subplots(1, 2, constrained_layout=True)\n",
    "fig.suptitle('Sampling from poisson distribution')\n",
    "ax1.hist(poisson1, bins=10)\n",
    "ax1.set_title(\"Expectation of interval: 5\")\n",
    "ax2.hist(poisson2, bins=10)\n",
    "ax2.set_title(\"Expectation of interval: 50\");"
   ]
  },
  {
   "cell_type": "code",
   "execution_count": null,
   "id": "45b21885",
   "metadata": {},
   "outputs": [],
   "source": [
    "import numpy as np\n",
    "# Sample data\n",
    "data = np.array([10, 20, 30, 40, 50, 20, 30, 40, 60])\n",
    "# Mean\n",
    "mean = np.mean(data)\n",
    "print(\"Mean:\", mean)\n",
    "# Median\n",
    "median = np.median(data)\n",
    "print(\"Median:\", median)\n",
    "# Mode\n",
    "mode = np.argmax(np.bincount(data))\n",
    "print(\"Mode:\", mode)"
   ]
  },
  {
   "cell_type": "markdown",
   "id": "30d71193",
   "metadata": {},
   "source": [
    "## **5.8-Measures of dispersion** (Optional)"
   ]
  },
  {
   "cell_type": "markdown",
   "id": "71e72265",
   "metadata": {},
   "source": [
    "Measures of dispersion are indicators of the extent to which data distributions are stretched or squeezed."
   ]
  },
  {
   "cell_type": "code",
   "execution_count": null,
   "id": "73cafcd3",
   "metadata": {},
   "outputs": [],
   "source": [
    "rand_matrix = np.random.rand(5,5)\n",
    "print(f\"Pearson product-moment correlation coefficient:\\n{np.corrcoef(poisson1,poisson2)}\\n\")\n",
    "print(f\"Cross-correlation coefficient:\\n{np.correlate(poisson1,poisson2)}\\n\")\n",
    "print(f\"Covariance matrix coefficients:\\n{np.cov(poisson1,poisson2)}\\n\")\n",
    "print(f\"Pearson product-moment correlation coefficient:\\n{np.corrcoef(rand_matrix)}\\n\")\n",
    "print(f\"Covariance matrix coefficients:\\n{np.cov(rand_matrix)}\")"
   ]
  }
 ],
 "metadata": {
  "kernelspec": {
   "display_name": "base",
   "language": "python",
   "name": "python3"
  },
  "language_info": {
   "codemirror_mode": {
    "name": "ipython",
    "version": 3
   },
   "file_extension": ".py",
   "mimetype": "text/x-python",
   "name": "python",
   "nbconvert_exporter": "python",
   "pygments_lexer": "ipython3",
   "version": "3.9.7"
  }
 },
 "nbformat": 4,
 "nbformat_minor": 5
}
