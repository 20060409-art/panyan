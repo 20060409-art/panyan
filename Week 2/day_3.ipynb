{
 "cells": [
  {
   "cell_type": "markdown",
   "id": "144269ce",
   "metadata": {},
   "source": [
    "# Numpy 基础 2"
   ]
  },
  {
   "cell_type": "markdown",
   "id": "0ac79735",
   "metadata": {},
   "source": [
    "#**📚Section 4-The Basics operations on Numpy Array<a name='basic_mathematic_operations'></a>**\n",
    "NumPy’s main object is the homogeneous multidimensional array. It is a table of elements (usually numbers), all of the\n",
    "same type, indexed by a tuple of non-negative integers. In NumPy dimensions are called axes.\n",
    "For example, the array for the coordinates of a point in 3D space, [1, 2, 1], has one axis. That axis has 3 elements\n",
    "in it, so we say it has a length of 3. In the example pictured below, the array has 2 axes. The first axis has a length of 2,\n",
    "the second axis has a length of 3.\n",
    "[[1., 0., 0.],\n",
    "[0., 1., 2.]]\n",
    "NumPy’s array class is called ndarray. It is also known by the alias array. Note that numpy.array is not the\n",
    "same as the Standard Python Library class array.array, which only"
   ]
  },
  {
   "cell_type": "markdown",
   "id": "f27b1612",
   "metadata": {},
   "source": [
    "### **4.1-Array Shape and Size:**"
   ]
  },
  {
   "cell_type": "markdown",
   "id": "4e8431c3",
   "metadata": {},
   "source": [
    "\n",
    "**1-  ndarray.ndim**\n",
    "\n",
    "the number of axes (dimensions) of the array.\n",
    "\n",
    "**2-  ndarray.shape**\n",
    "\n",
    "the dimensions of the array. This is a tuple of integers indicating the size of the array in each dimension. For a\n",
    "matrix with n rows and m columns, shape will be (n,m). The length of the shape tuple is therefore the number of axes, ndim.\n",
    "\n",
    "**3-  ndarray.size**\n",
    "\n",
    "the total number of elements of the array. This is equal to the product of the elements of shape.\n",
    "\n",
    "**4-  ndarray.dtype**\n",
    "\n",
    "an object describing the type of the elements in the array. One can create or specify dtype’s using standard Python\n",
    "types. Additionally NumPy provides types of its own. numpy.int32, numpy.int16, and numpy.float64 are some\n",
    "examples.\n",
    "\n",
    "**5-  ndarray.itemsize**\n",
    "\n",
    "the size in bytes of each element of the array. For example, an array of elements of type float64 has itemsize\n",
    "8 (=64/8), while one of type complex32 has itemsize 4 (=32/8). It is equivalent to ndarray.dtype.\n",
    "\n",
    "**6-  itemsize.**\n",
    "\n",
    "ndarray.data\n",
    "the buffer containing the actual elements of the array. Normally, we won’t need to use this attribute because we\n",
    "will access the elements in an array using indexing facilities.\n"
   ]
  },
  {
   "cell_type": "markdown",
   "id": "e03af1e1",
   "metadata": {},
   "source": [
    "An example"
   ]
  },
  {
   "cell_type": "code",
   "execution_count": null,
   "id": "4f2a6042",
   "metadata": {},
   "outputs": [],
   "source": [
    "import numpy as np\n",
    "arr = np.arange(15).reshape(3, 5)\n",
    "# Arange function will create 15 points from 0 to 14 and then reshape will reshape it accordingly"
   ]
  },
  {
   "cell_type": "code",
   "execution_count": null,
   "id": "5e98e897",
   "metadata": {},
   "outputs": [],
   "source": [
    "arr"
   ]
  },
  {
   "cell_type": "code",
   "execution_count": null,
   "id": "a1539591",
   "metadata": {},
   "outputs": [],
   "source": [
    "# Check arr's shape, dimension, dtype & type, size"
   ]
  },
  {
   "cell_type": "code",
   "execution_count": null,
   "id": "69c611f3",
   "metadata": {},
   "outputs": [],
   "source": [
    "\n",
    "arr = np.arange(15).reshape(3, 5) \n",
    "print(\"Array:\\n\", arr)\n",
    "print(\"\\nArray Properties:\")\n",
    "print(\"1. Number of dimensions (ndim):\", arr.ndim)          \n",
    "print(\"2. Shape (rows, columns):\", arr.shape)             \n",
    "print(\"3. Total size (number of elements):\", arr.size)      \n",
    "print(\"4. Data type (dtype):\", arr.dtype)                  \n",
    "print(\"5. Item size (bytes per element):\", arr.itemsize)    "
   ]
  },
  {
   "cell_type": "markdown",
   "id": "749aef8a",
   "metadata": {},
   "source": [
    "###  **4.2-Indexing and Slicing**"
   ]
  },
  {
   "cell_type": "markdown",
   "id": "63d95f2c",
   "metadata": {},
   "source": [
    "NumPy supports powerful indexing and slicing operations for extracting specific elements or subarrays from an array: Array indexing Refers to accessing individual elements within a NumPy array,.Array Slicing: This allows you to extract specific portions of an array, creating new arrays with the selected elements."
   ]
  },
  {
   "cell_type": "code",
   "execution_count": null,
   "id": "141dbbe8",
   "metadata": {},
   "outputs": [],
   "source": [
    "# Accessing a specific element\n",
    "specific_element = arr[1, 2]"
   ]
  },
  {
   "cell_type": "code",
   "execution_count": null,
   "id": "cdfc1370",
   "metadata": {},
   "outputs": [],
   "source": [
    "# Creating a NumPy array and complete the code by replacing None with the correct code\n",
    "\n",
    "arr = np.array([10, 20, 30, 40, 50])\n",
    "# Accessing individual elements\n",
    "first_element = None # Access the first element (10)\n",
    "first_element = arr[0]    \n",
    "last_element = None # Access the last element (50)\n",
    "last_element = arr[-1] \n",
    "arr_2d = np.array([[1, 2, 3], [4, 5, 6], [7, 8, 9]])\n",
    "# Slicing along rows and columns\n",
    "sliced_array = None # Element at row 0, column 1 (value: 2)\n",
    "print(\"First element:\", first_element)\n",
    "print(\"Last element:\", last_element)"
   ]
  },
  {
   "cell_type": "code",
   "execution_count": null,
   "id": "9bc41d78",
   "metadata": {},
   "outputs": [],
   "source": [
    "# Complete the code by replacing None with the correct code\n",
    "slice_1_to_3 = arr[1:3]      # [20, 30]\n",
    "print(\"\\nSlice [1:3]:\", slice_1_to_3)\n",
    "\n",
    "sliced_array = None # Slice from index 1 to 3 (exclusive) [20,30,40]\n",
    "slice_step_2 = arr[::2]     \n",
    "print(\"Slice [::2]:\", slice_step_2)\n",
    "\n",
    "sliced_array = None # Start at index 0, step by 2 [10,30,50]\n",
    "# Slicing with negative index\n",
    "second_to_last = None # Access the last two elements [40,50]\n",
    "second_to_last = arr[-2:]    # [40, 50]\n",
    "print(\"Last two elements:\", second_to_last)\n",
    "\n",
    " Conditional slicing (elements > 30)\n",
    "conditional_slice = arr[arr > 30]  # [40, 50]\n",
    "print(\"Elements > 30:\", conditional_slice)\n",
    "sliced_array = None # Result: [40, 50]\n",
    "# Creating a 2D NumPy array\n",
    "arr_2d = np.array([[1, 2, 3], [4, 5, 6], [7, 8, 9]])\n",
    "# Slicing along rows and columns\n",
    "sliced_array = None # Slice a 2x2 subarray: [[4, 5], [7, 8]]"
   ]
  },
  {
   "cell_type": "markdown",
   "id": "d0f2ff53",
   "metadata": {},
   "source": [
    "### **4.3-Aggregation Functions**"
   ]
  },
  {
   "cell_type": "markdown",
   "id": "1dec956b",
   "metadata": {},
   "source": [
    "NumPy provides functions for aggregating data, such as calculating the sum, mean, minimum, and maximum:"
   ]
  },
  {
   "cell_type": "code",
   "execution_count": null,
   "id": "2858671d",
   "metadata": {},
   "outputs": [],
   "source": [
    "arr_1d = np.array([10, 20, 30, 40, 50])\n",
    "arr_2d = np.array([[1, 2, 3], [4, 5, 6], [7, 8, 9]])\n",
    "\n",
    "# Calculating the sum of an array\n",
    "sum_of_array = np.sum(arr_2d)\n",
    "# Calculating the mean of an array\n",
    "mean_of_array = np.mean(arr_1d)\n",
    "# Finding the minimum and maximum values in an array\n",
    "min_value = np.min(arr_2d)\n",
    "max_value = np.max(arr_1d)"
   ]
  },
  {
   "cell_type": "markdown",
   "id": "07a1f617",
   "metadata": {},
   "source": [
    "**1- Sum Calculation**"
   ]
  },
  {
   "cell_type": "code",
   "execution_count": null,
   "id": "256ae675",
   "metadata": {},
   "outputs": [],
   "source": [
    "\n",
    "\n",
    "matrix = np.array([[1, 2, 3], [4, 5, 6], [7, 8, 9]])\n",
    "print(matrix)\n",
    "# Sum of all elements\n",
    "total_sum =  np.sum(matrix) # Replace None with the correct code\n",
    "print(\"Total Sum:\", total_sum)\n",
    "# Sum along each column (axis=0)\n",
    "column_sums = np.sum(matrix, axis=0)# Replace None with the correct code\n",
    "print(\"Column Sums:\", column_sums)\n",
    "# Sum along each row (axis=1)\n",
    "row_sum = np.sum(matrix, axis=1)# Replace None with the correct code\n",
    "print(\"Row Sums:\", row_sums)"
   ]
  },
  {
   "cell_type": "markdown",
   "id": "c032bb39",
   "metadata": {},
   "source": [
    "**2- Mean and Average:**"
   ]
  },
  {
   "cell_type": "code",
   "execution_count": null,
   "id": "c4bd46bb",
   "metadata": {},
   "outputs": [],
   "source": [
    "# Mean of all elements\n",
    "mean_value = np.mean(matrix)\n",
    "print(\"Mean:\", mean_value)"
   ]
  },
  {
   "cell_type": "code",
   "execution_count": null,
   "id": "b0e345c3",
   "metadata": {},
   "outputs": [],
   "source": [
    "# Mean along each column\n",
    " # Replace None with the correct code\n",
    "column_means = np.mean(matrix, axis=0)\n",
    "\n",
    "print(\"Column Means:\", column_means)\n",
    "\n",
    "# Mean along each row\n",
    " # Replace None with the correct code\n",
    "row_means = np.mean(matrix, axis=1)\n",
    "print(\"Row Means:\", row_means) \n",
    "print(\"Row Means:\", row_means)"
   ]
  },
  {
   "cell_type": "markdown",
   "id": "4c961980",
   "metadata": {},
   "source": [
    "**3- Maximum and Minimum:**"
   ]
  },
  {
   "cell_type": "code",
   "execution_count": null,
   "id": "e27f7167",
   "metadata": {},
   "outputs": [],
   "source": [
    "# Maximum element\n",
    "max_value = np.max(matrix)\n",
    "print(\"Maximum Value:\", max_value)"
   ]
  },
  {
   "cell_type": "code",
   "execution_count": null,
   "id": "c0591fef",
   "metadata": {},
   "outputs": [],
   "source": [
    "# Maximum along each column\n",
    "column_max =  np.max(matrix, axis=0) # Replace None with the correct code\n",
    "print(\"Column Max Values:\", column_max)\n",
    "\n",
    "# Maximum along each row\n",
    "row_max = np.max(matrix, axis=1) # Replace None with the correct code\n",
    "print(\"Row Max Values:\", row_max)\n",
    "\n",
    "# Minimum element\n",
    "min_value =  np.min(matrix) # Replace None with the correct code\n",
    "print(\"Minimum Value:\", min_value)"
   ]
  },
  {
   "cell_type": "markdown",
   "id": "aea96fc5",
   "metadata": {},
   "source": [
    "We aggregate all the values in a matrix, but we can also aggregate across the rows or columns by using the axis parameter."
   ]
  },
  {
   "cell_type": "markdown",
   "id": "caadbd96",
   "metadata": {},
   "source": [
    "### **4.4- Reshaping and Transposing**"
   ]
  },
  {
   "cell_type": "code",
   "execution_count": null,
   "id": "07836653",
   "metadata": {},
   "outputs": [],
   "source": [
    "# Creating Arrays\n",
    "array_1 = np.arange(-9,9, 2)\n",
    "array_2 = np.arange(-9,9, 2).reshape((3,3))\n",
    "\n",
    "data = np.array([10, 20, 30, 40, 50])"
   ]
  },
  {
   "cell_type": "markdown",
   "id": "1dc25ddc",
   "metadata": {},
   "source": [
    "**1- Reshaping 1D Array to 2D Array:**\n"
   ]
  },
  {
   "cell_type": "code",
   "execution_count": null,
   "id": "6d879a06",
   "metadata": {},
   "outputs": [],
   "source": [
    "import numpy as np\n",
    "\n",
    "# Creating a 1D array\n",
    "original_array = np.array([1, 2, 3, 4, 5, 6, 7, 8, 9])\n",
    "\n",
    "# Reshaping the 1D array to a 2D array with 3 rows and 3 columns\n",
    "reshaped_array = original_array.reshape(3, 3)\n",
    "original_2d = np.array([[1, 2, 3], [4, 5, 6], [7, 8, 9]])\n",
    "flattened_2d = original_2d.flatten()\n",
    "print(\"\\nOriginal 2D array:\\n\", original_2d)\n",
    "print(\"Flattened 1D array:\\n\", flattened_2d)\n",
    "# Printing the original and reshaped arrays\n",
    "print(\"Original 1D array:\")\n",
    "print(original_array)\n",
    "print(\"\\nReshaped 2D array:\")\n",
    "print(reshaped_array)"
   ]
  },
  {
   "cell_type": "markdown",
   "id": "09b4489d",
   "metadata": {},
   "source": [
    "**2- Reshaping 1D Array to 3D Array:**"
   ]
  },
  {
   "cell_type": "code",
   "execution_count": null,
   "id": "edf8a2eb",
   "metadata": {},
   "outputs": [],
   "source": [
    "import numpy as np\n",
    "\n",
    "# Creating a 1D array\n",
    "original_array = np.array([1, 2, 3, 4, 5, 6, 7, 8, 9, 10, 11, 12])\n",
    "\n",
    "# Reshaping the 1D array to a 3D array with 2 blocks, 2 rows, and 3 columns\n",
    "reshaped_array = original_array.reshape(2, 2, 3)\n",
    "original_3d = np.array([[[1, 2], [3, 4]], [[5, 6], [7, 8]]])\n",
    "flattened_3d = original_3d.flatten()\n",
    "print(\"\\nOriginal 3D array:\\n\", original_3d)\n",
    "print(\"Flattened 1D array:\\n\", flattened_3d)\n",
    "# Printing the original and reshaped arrays\n",
    "print(\"Original 1D array:\")\n",
    "print(original_array)\n",
    "print(\"\\nReshaped 3D array:\")\n",
    "print(reshaped_array)\n"
   ]
  },
  {
   "cell_type": "markdown",
   "id": "65d3abad",
   "metadata": {},
   "source": [
    "**3- Reshaping with -1:**"
   ]
  },
  {
   "cell_type": "code",
   "execution_count": null,
   "id": "24295123",
   "metadata": {},
   "outputs": [],
   "source": [
    "import numpy as np\n",
    "\n",
    "# Creating a 1D array with 12 elements\n",
    "original_array = np.array([1, 2, 3, 4, 5, 6, 7, 8, 9, 10, 11, 12])\n",
    "\n",
    "# Reshaping the 1D array to a 2D array with 4 rows and an automatically calculated number of columns\n",
    "reshaped_array = original_array.reshape(-1, 4)\n",
    "\n",
    "# Printing the original and reshaped arrays\n",
    "print(\"Original 1D array:\")\n",
    "print(original_array)\n",
    "print(\"\\nReshaped 2D array with -1:\")\n",
    "print(reshaped_array)\n"
   ]
  },
  {
   "cell_type": "markdown",
   "id": "b06afa85",
   "metadata": {},
   "source": [
    "**4- Flattening a 2D or 3D Array:**"
   ]
  },
  {
   "cell_type": "markdown",
   "id": "514dbc15",
   "metadata": {},
   "source": [
    "Flattening is the process of converting a multi-dimensional array into a 1D array. The flatten method achieves this:"
   ]
  },
  {
   "cell_type": "code",
   "execution_count": null,
   "id": "6330dea0",
   "metadata": {},
   "outputs": [],
   "source": [
    "import numpy as np\n",
    "\n",
    "# Creating a 2D array\n",
    "original_2d_array = np.array([[1, 2, 3], [4, 5, 6], [7, 8, 9]])\n",
    "\n",
    "# Flattening the 2D array using flatten()\n",
    "flattened_array = original_2d_array.flatten()\n",
    "\n",
    "# Printing the original and flattened arrays\n",
    "print(\"Original 2D array:\")\n",
    "print(original_2d_array)\n",
    "print(\"\\nFlattened 1D array:\")\n",
    "print(flattened_array)"
   ]
  },
  {
   "cell_type": "code",
   "execution_count": null,
   "id": "96dfedc0",
   "metadata": {},
   "outputs": [],
   "source": [
    "import numpy as np\n",
    "\n",
    "# Creating a 3D array\n",
    "original_3d_array = np.array([[[1, 2], [3, 4]], [[5, 6], [7, 8]], [[9, 10], [11, 12]]])\n",
    "\n",
    "# Flattening the 3D array using flatten()\n",
    "flattened_array_3d = original_3d_array.flatten()\n",
    "\n",
    "# Printing the original and flattened arrays\n",
    "print(\"Original 3D array:\")\n",
    "print(original_3d_array)\n",
    "print(\"\\nFlattened 1D array:\")\n",
    "print(flattened_array_3d)\n"
   ]
  },
  {
   "cell_type": "markdown",
   "id": "e6f3289e",
   "metadata": {},
   "source": [
    "**5- Transpose operations**"
   ]
  },
  {
   "cell_type": "code",
   "execution_count": null,
   "id": "60c66652",
   "metadata": {},
   "outputs": [],
   "source": [
    "matrix3x2 = np.array([[1, 2], [3, 4], [5, 6]]) # Define a 3x2 matrix\n",
    "matrix = np.array([[1, 2], [3, 4], [5, 6]])\n",
    "transposed = matrix.T \n",
    "print('Original matrix 3 x 2')\n",
    "print(matrix3x2)\n",
    "print('Transposed matrix 2 x 3')\n",
    "print(matrix3x2.T)"
   ]
  },
  {
   "cell_type": "markdown",
   "id": "582510d2",
   "metadata": {},
   "source": [
    "### **4.5- Append and Delete**"
   ]
  },
  {
   "cell_type": "code",
   "execution_count": null,
   "id": "9dbaf9b8",
   "metadata": {},
   "outputs": [],
   "source": [
    "# Create an array\n",
    "original_array = np.array([1, 2, 3])\n",
    "# Append elements in-place\n",
    "original_array = np.append(original_array, [4, 5, 6])\n",
    "# Create a NumPy array\n",
    "arr = np.array([1, 2, 3, 4, 5])\n",
    "# Remove the item at index 2 (value 3)\n",
    "new_arr = np.delete(arr, 2)\n",
    "# Create a 2D NumPy array\n",
    "arr = np.array([[1, 2, 3], [4,5, 6], [7, 8, 9]])\n",
    "# Remove the second row (index 1)\n",
    "new_arr = np.delete(arr, 1, axis=0)"
   ]
  },
  {
   "cell_type": "code",
   "execution_count": null,
   "id": "0f4acebf",
   "metadata": {},
   "outputs": [],
   "source": [
    "nparray = np.array([[1, 2, 3, 4]]) # Define a 1 x 4 matrix. Note the 2 level of square brackets\n",
    "print('Original array')\n",
    "print(nparray)\n",
    "print('Transposed array')\n",
    "print(nparray.T)"
   ]
  },
  {
   "cell_type": "code",
   "execution_count": null,
   "id": "795de3b1",
   "metadata": {},
   "outputs": [],
   "source": [
    "# sum over\n",
    "sum_1, sum_2, sum_3 = np.sum(array_1), np.sum(array_2, axis=0), np.sum(array_2, axis=1)\n",
    "# take product\n",
    "prod_1, prod_2, prod_3 = np.prod(array_1), np.prod(array_2, axis=0), np.prod(array_2, axis=1)\n",
    "# cumulative sum\n",
    "cumsum_1, cumsum_2, cumsum_3 = np.cumsum(array_1), np.cumsum(array_2, axis=0), np.cumsum(array_2, axis=1)\n",
    "# clip values\n",
    "clip_1, clip_2 = np.clip(array_1, 2, 8), np.clip(array_2, 2, 8)\n",
    "# take absolute value\n",
    "absolute_1, absolute_2 = np.absolute(array_1), np.absolute(array_2)\n",
    "# take square root\n",
    "sqrt_1, sqrt_2 = np.sqrt(np.absolute(array_1)), np.sqrt(np.absolute(array_2))\n",
    "# take the square power\n",
    "square_1, square_2 =  np.square(array_1), np.square(array_2)\n",
    "# sign function\n",
    "sign_1, sign_2 = np.sign(array_1), np.sign(array_2)\n",
    "# n power\n",
    "power = np.power(np.absolute(array_1), np.absolute(array_1))"
   ]
  },
  {
   "cell_type": "code",
   "execution_count": null,
   "id": "b9620300",
   "metadata": {},
   "outputs": [],
   "source": [
    "#converting list to ndarray\n",
    "import numpy as np\n",
    "x = [1,2,3]\n",
    "a = np.asarray(x)\n",
    "print (a)\n",
    "\n",
    "\n",
    "# ndarray from tuple\n",
    "x_1 = (1,2,3)\n",
    "a_1 = np.asarray(x_1)\n",
    "print (a_1)\n",
    "\n",
    "# ndarray from list of tuples\n",
    "import numpy as np\n",
    "x_2 = [(1,2,3),(4,5,6)]\n",
    "a_2 = np.asarray(x_2)\n",
    "print (a_2)\n",
    "\n",
    "#  .Important Arrays attributes\n",
    "# arr.shape :It returns a tuple listing the length of the array along each dimension.\n",
    "import numpy as np\n",
    "arr = np.array([[1,2,3],[4,5,6]])\n",
    "print (arr.shape)\n",
    "\n",
    "\n",
    "#resizing the above array\n",
    "a = np.array([[1,2,3],[4,5,6]])\n",
    "a.shape = (3,2)\n",
    "print (a)\n",
    "\n",
    "\n",
    "a = np.array([[1,2,3],[4,5,6]])\n",
    "b = a.reshape(3,2)\n",
    "print (b)"
   ]
  }
 ],
 "metadata": {
  "kernelspec": {
   "display_name": "base",
   "language": "python",
   "name": "python3"
  },
  "language_info": {
   "codemirror_mode": {
    "name": "ipython",
    "version": 3
   },
   "file_extension": ".py",
   "mimetype": "text/x-python",
   "name": "python",
   "nbconvert_exporter": "python",
   "pygments_lexer": "ipython3",
   "version": "3.9.7"
  }
 },
 "nbformat": 4,
 "nbformat_minor": 5
}
