{
 "cells": [
  {
   "cell_type": "markdown",
   "id": "3ee2cf56",
   "metadata": {},
   "source": [
    "# 0. Start\n",
    "\n",
    "## How to learn Pyhon\n",
    "\n",
    "Programming is a science for practitioners—just like learning a new language. You can’t master a language just by reading books, and the same goes for Python: you won’t truly learn it without getting your hands dirty.\n",
    "\n",
    "In this tutorial, we’ll be using Jupyter Notebook environments to learn Python. Think of it like using Excel: you write code in cells (like spreadsheet cells), then run them to see what happens.\n",
    "\n",
    "The best way to learn Python is simple:\n",
    "- Write code based on your own understanding, and then run it.\n",
    "- Experiment. Make mistakes. Fix them. That’s how you really learn.\n",
    "\n",
    "## Facing any problem?\n",
    "\n",
    "One thing that makes learning Python easier than learning a foreign language is the power of modern search engines. If you run into a problem, just ChatGPT it!\n",
    "\n",
    "In fact, many professional programmers rely on search large language models (LLMs) every single day. With so many functions, libraries, and techniques in programming, no one can remember everything, and they don’t have to.\n",
    "\n",
    "Remember This:\n",
    "- The real goal of learning isn’t memorizing facts.\n",
    "- It’s about learning how to solve problems and how to think logically.\n",
    "\n",
    "When it comes to memorization, humans will never beat computers. What matters is your ability to understand problems and find solutions.\n",
    "\n",
    "During the early stages of this course, we’ll provide a lot of useful reference links and resources. Be sure to read them carefully, they’re there to help you become an independent learner and a confident problem solver."
   ]
  },
  {
   "cell_type": "markdown",
   "id": "1b4dae25",
   "metadata": {},
   "source": [
    "# 1. Hello World!\n",
    "\n",
    "## Task\n",
    "\n",
    "- Enter the name from input\n",
    "- Output \"Hi + name.\"\n",
    "\n",
    "## References\n",
    "- [Variables](https://github.com/walter201230/Python/blob/master/Article/PythonBasis/python2/Variable.md)\n",
    "- [Type of the Variables](https://www.runoob.com/python3/python3-data-type.html)\n",
    "- [Python 3 Input Function](https://www.runoob.com/python3/python3-func-input.html)"
   ]
  },
  {
   "cell_type": "code",
   "execution_count": null,
   "id": "e3eb9d33",
   "metadata": {},
   "outputs": [],
   "source": [
    "name = input()\n",
    "print(\"Hi \" + name)"
   ]
  },
  {
   "cell_type": "markdown",
   "id": "bbf373e3",
   "metadata": {},
   "source": [
    "# 2. Email Robot\n",
    "\n",
    "## Scenario\n",
    "Imagine you are an operations specialist responsible for sending order confirmation emails to customers every day.\n",
    "Now, you want to use Python to help you do this automatically.\n",
    "\n",
    "Let’s write a simple program that does the following:\n",
    "\n",
    "## Task\n",
    "Ask the user (you, the operator) to enter the customer's name\n",
    "\n",
    "Ask for the product they purchased\n",
    "\n",
    "Print an email message in the following format:\n",
    "\n",
    "## References\n",
    "\n",
    "- [使用三引号处理多行字符串](https://blog.csdn.net/sinat_41104353/article/details/79266048)\n",
    "- [python3处理字符串](https://www.runoob.com/python3/python3-string.html)\n",
    "- [最全面的 python 字符串拼接总结](https://segmentfault.com/a/1190000015475309)"
   ]
  },
  {
   "cell_type": "code",
   "execution_count": null,
   "id": "fb8efc28",
   "metadata": {},
   "outputs": [],
   "source": [
    "# Enter your code here\n",
    "\n",
    "email_template = \"\"\"\n",
    "Dear %s:\n",
    "\n",
    "Your purchased product : %s is delivered!\n",
    "\n",
    "Thanks for your choosing!\n",
    "\"\"\"\n",
    "name = input(\"请输入客户姓名:\")\n",
    "product = input(\"请输入商品名:\")\n",
    "\n",
    "email_body = email_template % (name,product)\n",
    "print(email_body)"
   ]
  },
  {
   "cell_type": "markdown",
   "id": "57224a0f",
   "metadata": {},
   "source": [
    "# 3. Slice a String:\n",
    "\n",
    "## Task\n",
    "\n",
    "Extract the word \"Rise\" from the string:\n",
    "\"You Rise Me Up\"\n",
    "\n",
    "## References:\n",
    "- [截取字符串的方法详解](https://blog.csdn.net/weixin_42350212/article/details/80551677)"
   ]
  },
  {
   "cell_type": "code",
   "execution_count": null,
   "id": "d61191a2",
   "metadata": {},
   "outputs": [],
   "source": [
    "A = \"You Rise Me Up\"\n",
    "B = A[4:8]\n",
    "print (B)"
   ]
  },
  {
   "cell_type": "markdown",
   "id": "9a1397fa",
   "metadata": {},
   "source": [
    "# 4. String Case Conversion\n",
    "\n",
    "## Task\n",
    "Convert the string \"Python Basic\" to lowercase.\n",
    "\n",
    "## References\n",
    "- [Python 字符串大小写转换](https://www.runoob.com/python3/python3-upper-lower.html)\n",
    "- [Python3 字符串](https://www.runoob.com/python3/python3-string.html)\n",
    "请翻到 “Python 的字符串内建函数“，这里不但有大小写转换函数，也有其它Python字符串自带的函数的介绍"
   ]
  },
  {
   "cell_type": "code",
   "execution_count": null,
   "id": "1c01eb51",
   "metadata": {},
   "outputs": [],
   "source": [
    "A = \"Python Basic\"\n",
    "lowercase_A= A.lower()\n",
    "print(lowercase_A)"
   ]
  },
  {
   "cell_type": "markdown",
   "id": "385976a1",
   "metadata": {},
   "source": [
    "# 5. Calculator\n",
    "\n",
    "## Task\n",
    "Calculate 1000 * 2000 then minus 1000000\n",
    "\n",
    "Print the result"
   ]
  },
  {
   "cell_type": "code",
   "execution_count": null,
   "id": "54cab325",
   "metadata": {},
   "outputs": [],
   "source": [
    "A = 1000*2000 - 1000000\n",
    "print (A)"
   ]
  },
  {
   "cell_type": "markdown",
   "id": "e93bb89f",
   "metadata": {},
   "source": [
    "# 6. Type of the variables\n",
    "\n",
    "## Task\n",
    "\n",
    "Try \n",
    "* print(type(100))\n",
    "* print(type(100.00))\n",
    "* print(type(\"Hello\"))\n",
    "\n",
    "## References\n",
    "- [Python type() 函数](https://www.runoob.com/python/python-func-type.html)"
   ]
  },
  {
   "cell_type": "code",
   "execution_count": null,
   "id": "f4572eef",
   "metadata": {},
   "outputs": [],
   "source": [
    "print(type(100))\n",
    "print(type(100.00))\n",
    "print(type(\"Hello\"))"
   ]
  }
 ],
 "metadata": {
  "kernelspec": {
   "display_name": "base",
   "language": "python",
   "name": "python3"
  },
  "language_info": {
   "codemirror_mode": {
    "name": "ipython",
    "version": 3
   },
   "file_extension": ".py",
   "mimetype": "text/x-python",
   "name": "python",
   "nbconvert_exporter": "python",
   "pygments_lexer": "ipython3",
   "version": "3.9.7"
  }
 },
 "nbformat": 4,
 "nbformat_minor": 5
}
